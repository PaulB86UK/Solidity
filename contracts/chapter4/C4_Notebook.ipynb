{
 "cells": [
  {
   "cell_type": "code",
   "execution_count": 6,
   "metadata": {},
   "outputs": [],
   "source": [
    "\n",
    "with open(\"SimpleStorage.sol\",\"r\") as file:\n",
    "    simple_storage_file = file.read()\n",
    "    #print(simple_storage_file)"
   ]
  },
  {
   "cell_type": "markdown",
   "metadata": {},
   "source": [
    "# Steps\n",
    "pip install web3\n",
    "pip install black\n",
    "pip install py-solc-x\n",
    "solcx.install_solc('0.6.0')"
   ]
  },
  {
   "cell_type": "code",
   "execution_count": 40,
   "metadata": {},
   "outputs": [
    {
     "name": "stdout",
     "output_type": "stream",
     "text": [
      "<class 'web3._utils.datatypes.Contract'>\n"
     ]
    }
   ],
   "source": [
    "from solcx import compile_standard\n",
    "import json\n",
    "from web3 import Web3\n",
    "import os\n",
    "from dotenv import load_dotenv\n",
    "\n",
    "#Load Env Variables\n",
    "load_dotenv()\n",
    "PRIVATE_KEY = os.getenv(\"PRIVATE_KEY\")\n",
    "ADDRESS = os.getenv(\"ADDRESS\")\n",
    "\n",
    "compiled_sol = compile_standard(\n",
    "    {\n",
    "    \"language\": \"Solidity\",\n",
    "    \"sources\": {\"SimpleStorage.sol\" : {\"content\": simple_storage_file}},\n",
    "    \"settings\": {\n",
    "        \"outputSelection\" : {\n",
    "            \"*\" : {\n",
    "                \"*\" : [\"abi\",\"metadata\",\"evm.bytecode\",\"evm.sourceMap\"]}\n",
    "        }\n",
    "    },\n",
    "    },\n",
    "    solc_version = \"0.6.0\"\n",
    "    )\n",
    "\n",
    "with open(\"compiled_code.json\", \"w\") as file:\n",
    "    json.dump(compiled_sol, file)\n",
    "\n",
    "#get bytecode\n",
    "bytecode = compiled_sol[\"contracts\"][\"SimpleStorage.sol\"][\"SimpleStorage\"][\"evm\"][\"bytecode\"][\"object\"]\n",
    "#get abi\n",
    "abi = compiled_sol[\"contracts\"][\"SimpleStorage.sol\"][\"SimpleStorage\"][\"abi\"]\n",
    "\n",
    "#connecting to ganache\n",
    "w3 = Web3(Web3.HTTPProvider(\"https://rinkeby.infura.io/v3/2e8ad46c0cb241aeb14d4e5f341db92b\"))\n",
    "chain_id = 4 #Rinkeby is 4\n",
    "\n",
    "#Create Contract in Python\n",
    "SimpleStorage = w3.eth.contract(abi=abi, bytecode=bytecode)\n",
    "print(SimpleStorage)\n",
    "\n",
    "#Get the latest transaction\n",
    "nonce = w3.eth.getTransactionCount(ADDRESS)\n",
    "#Build Transaction\n",
    "transaction = SimpleStorage.constructor().buildTransaction({\"chainId\":chain_id,\"gasPrice\": w3.eth.gas_price,\"from\":ADDRESS, \"nonce\": nonce})\n",
    "#Sign it\n",
    "signed_txn = w3.eth.account.sign_transaction(transaction,private_key=PRIVATE_KEY)\n",
    "#Send it\n",
    "tx_hash = w3.eth.send_raw_transaction(signed_txn.rawTransaction) \n",
    "tx_receipt = w3.eth.wait_for_transaction_receipt(tx_hash)"
   ]
  },
  {
   "cell_type": "code",
   "execution_count": 41,
   "metadata": {},
   "outputs": [
    {
     "name": "stdout",
     "output_type": "stream",
     "text": [
      "15\n"
     ]
    }
   ],
   "source": [
    "\n",
    "\n",
    "#Working with the Contract\n",
    "##Contract Address -->from the receipt\n",
    "##Contract ABI --> from the compiled sol jsonA ABI extract\n",
    "simple_storage = w3.eth.contract(address=tx_receipt.contractAddress,abi=abi)\n",
    "# Call ->Simulate making the call and getting a return value (does not make a change in value (blue buttons in remix))\n",
    "# Transact --> Orange butons in remix. They do state changes. \n",
    "store_transaction = simple_storage.functions.store(15).buildTransaction({\"chainId\":chain_id,\"gasPrice\": w3.eth.gas_price,\"from\":ADDRESS, \"nonce\": nonce + 1})\n",
    "#Sign it\n",
    "signed_store_txn = w3.eth.account.sign_transaction(store_transaction,private_key=PRIVATE_KEY)\n",
    "#Send it\n",
    "send_store_tx = w3.eth.send_raw_transaction(signed_store_txn.rawTransaction) \n",
    "tx_receipt = w3.eth.wait_for_transaction_receipt(send_store_tx)\n",
    "print(simple_storage.functions.retrieve().call())"
   ]
  }
 ],
 "metadata": {
  "interpreter": {
   "hash": "ff52eed01c8efef9e9be5dc8de6ed86f28097167010d40eff689836ab1fa3489"
  },
  "kernelspec": {
   "display_name": "Python 3.8.0 64-bit",
   "language": "python",
   "name": "python3"
  },
  "language_info": {
   "codemirror_mode": {
    "name": "ipython",
    "version": 3
   },
   "file_extension": ".py",
   "mimetype": "text/x-python",
   "name": "python",
   "nbconvert_exporter": "python",
   "pygments_lexer": "ipython3",
   "version": "3.8.0"
  },
  "orig_nbformat": 4
 },
 "nbformat": 4,
 "nbformat_minor": 2
}
