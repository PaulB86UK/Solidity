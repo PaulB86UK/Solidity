{
 "cells": [
  {
   "cell_type": "code",
   "execution_count": 36,
   "metadata": {},
   "outputs": [],
   "source": [
    "\n",
    "with open(\"SimpleStorage.sol\",\"r\") as file:\n",
    "    simple_storage_file = file.read()\n",
    "    #print(simple_storage_file)"
   ]
  },
  {
   "cell_type": "markdown",
   "metadata": {},
   "source": [
    "# Steps\n",
    "pip install web3\n",
    "pip install black\n",
    "pip install py-solc-x\n",
    "solcx.install_solc('0.6.0')"
   ]
  },
  {
   "cell_type": "code",
   "execution_count": 41,
   "metadata": {},
   "outputs": [],
   "source": [
    "from solcx import compile_standard\n",
    "import json\n",
    "compiled_sol = compile_standard(\n",
    "    {\n",
    "    \"language\": \"Solidity\",\n",
    "    \"sources\": {\"SimpleStorage.sol\" : {\"content\": simple_storage_file}},\n",
    "    \"settings\": {\n",
    "        \"outputSelection\" : {\n",
    "            \"*\" : {\n",
    "                \"*\" : [\"abi\",\"metadata\",\"evm.bytecode\",\"evm.sourceMap\"]}\n",
    "        }\n",
    "    },\n",
    "    },\n",
    "    solc_version = \"0.6.0\"\n",
    "    )\n",
    "\n",
    "with open(\"compilied_code.json\", \"w\") as file:\n",
    "    json.dump(compiled_sol, file)\n",
    "\n",
    "#get bytecode\n",
    "bytecode = compiled_sol[\"contracts\"][\"SimpleStorage.sol\"][\"SimpleStorage\"][\"evm\"][\"bytecode\"][\"object\"]\n",
    "#get abi\n",
    "abi = compiled_sol[\"contracts\"][\"SimpleStorage.sol\"][\"SimpleStorage\"][\"abi\"]\n",
    "\n",
    " "
   ]
  },
  {
   "cell_type": "code",
   "execution_count": null,
   "metadata": {},
   "outputs": [],
   "source": []
  }
 ],
 "metadata": {
  "interpreter": {
   "hash": "ff52eed01c8efef9e9be5dc8de6ed86f28097167010d40eff689836ab1fa3489"
  },
  "kernelspec": {
   "display_name": "Python 3.8.0 64-bit",
   "language": "python",
   "name": "python3"
  },
  "language_info": {
   "codemirror_mode": {
    "name": "ipython",
    "version": 3
   },
   "file_extension": ".py",
   "mimetype": "text/x-python",
   "name": "python",
   "nbconvert_exporter": "python",
   "pygments_lexer": "ipython3",
   "version": "3.8.0"
  },
  "orig_nbformat": 4
 },
 "nbformat": 4,
 "nbformat_minor": 2
}
